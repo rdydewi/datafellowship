{
 "cells": [
  {
   "cell_type": "markdown",
   "metadata": {},
   "source": [
    "#  PYTHON PRACTICE CASE"
   ]
  },
  {
   "cell_type": "markdown",
   "metadata": {},
   "source": [
    "## Retno Dewi Yulianti\n",
    "Data Fellowship Batch 6 - Data Science"
   ]
  },
  {
   "cell_type": "markdown",
   "metadata": {},
   "source": [
    "### Dataset A"
   ]
  },
  {
   "cell_type": "code",
   "execution_count": 1,
   "metadata": {},
   "outputs": [],
   "source": [
    "# Create Connection with SQLite3\n",
    "\n",
    "import sqlite3\n",
    "con = sqlite3.connect('databaseDewi.db')"
   ]
  },
  {
   "cell_type": "code",
   "execution_count": 3,
   "metadata": {},
   "outputs": [],
   "source": [
    "con = sqlite3.connect('databaseDewi.db')\n",
    "cursorObj = con.cursor()"
   ]
  },
  {
   "cell_type": "code",
   "execution_count": 4,
   "metadata": {},
   "outputs": [
    {
     "name": "stdout",
     "output_type": "stream",
     "text": [
      "Connection is established: Database is created in memory\n"
     ]
    }
   ],
   "source": [
    "# Create Database\n",
    "\n",
    "import sqlite3\n",
    "from sqlite3 import Error\n",
    "def sql_connection():\n",
    "    try:\n",
    "        con = sqlite3.connect(':memory:')\n",
    "        print(\"Connection is established: Database is created in memory\")\n",
    "    except Error:\n",
    "        print(Error)\n",
    "    finally:\n",
    "        con.close()\n",
    "sql_connection()"
   ]
  },
  {
   "cell_type": "code",
   "execution_count": 5,
   "metadata": {},
   "outputs": [],
   "source": [
    "import sqlite3\n",
    "from sqlite3 import Error\n",
    "def sql_connection():\n",
    "    try:\n",
    "        con = sqlite3.connect('databaseDewi.db')\n",
    "        return con\n",
    "    except Error:\n",
    "        print(Error)\n",
    "def sql_table(con):\n",
    "    cursorObj = con.cursor()\n",
    "    cursorObj.execute(\"CREATE TABLE transactions(id integer UNIQUE, insert_time text, tx_amount real, tx_type string, status string)\")\n",
    "    con.commit()\n",
    "con = sql_connection()\n",
    "sql_table(con)"
   ]
  },
  {
   "cell_type": "code",
   "execution_count": 6,
   "metadata": {},
   "outputs": [],
   "source": [
    "#Prevent Lock Database\n",
    "\n",
    "import sqlite3\n",
    "import contextlib\n",
    "\n",
    "def execute_statement(statement):\n",
    "    with contextlib.closing(sqlite3.connect(path_to_file)) as conn: # auto-closes\n",
    "        with conn: # auto-commits\n",
    "            with contextlib.closing(conn.cursor()) as cursor: # auto-closes\n",
    "                cursor.execute(statement)"
   ]
  },
  {
   "cell_type": "code",
   "execution_count": 13,
   "metadata": {},
   "outputs": [],
   "source": [
    "# Insert The Buy Data into Table\n",
    "\n",
    "cursorObj.execute(\"INSERT INTO transactions (id, insert_time, tx_amount, tx_type, status) VALUES(1, '2021-07-01', 55, 'buy', 'open')\")\n",
    "cursorObj.execute(\"INSERT INTO transactions (id, insert_time, tx_amount, tx_type, status) VALUES(2, '2021-07-01', 63, 'buy', 'open')\")\n",
    "cursorObj.execute(\"INSERT INTO transactions (id, insert_time, tx_amount, tx_type, status) VALUES(3, '2021-07-04', 71, 'buy', 'open')\")\n",
    "cursorObj.execute(\"INSERT INTO transactions (id, insert_time, tx_amount, tx_type, status) VALUES(4, '2021-07-05', 79, 'buy', 'open')\")\n",
    "cursorObj.execute(\"INSERT INTO transactions (id, insert_time, tx_amount, tx_type, status) VALUES(5, '2021-07-08', 86, 'buy', 'open')\")\n",
    "cursorObj.execute(\"INSERT INTO transactions (id, insert_time, tx_amount, tx_type, status) VALUES(6, '2021-07-11', 94, 'buy', 'open')\")\n",
    "con.commit()"
   ]
  },
  {
   "cell_type": "code",
   "execution_count": 14,
   "metadata": {},
   "outputs": [
    {
     "name": "stdout",
     "output_type": "stream",
     "text": [
      "(1, '2021-07-01', 55.0, 'buy', 'open')\n",
      "(2, '2021-07-01', 63.0, 'buy', 'open')\n",
      "(3, '2021-07-04', 71.0, 'buy', 'open')\n",
      "(4, '2021-07-05', 79.0, 'buy', 'open')\n",
      "(5, '2021-07-08', 86.0, 'buy', 'open')\n",
      "(6, '2021-07-11', 94.0, 'buy', 'open')\n"
     ]
    }
   ],
   "source": [
    "# Transactions List\n",
    "\n",
    "cursorObj.execute('SELECT * FROM transactions')\n",
    "rows = cursorObj.fetchall()\n",
    "for row in rows:\n",
    "    print(row)"
   ]
  },
  {
   "cell_type": "code",
   "execution_count": 16,
   "metadata": {},
   "outputs": [],
   "source": [
    "# Updating Transactions List\n",
    "\n",
    "import sqlite3\n",
    "con = sqlite3.connect('databaseDewi.db')\n",
    "cursorObj = con.cursor()\n",
    "cursorObj.execute('UPDATE transactions SET insert_time = \"2021-07-02\", tx_type = \"sell\", status = \"close\" where id = 1')\n",
    "cursorObj.execute('UPDATE transactions SET insert_time = \"2021-07-04\", tx_type = \"sell\", status = \"close\" where id = 2')\n",
    "cursorObj.execute('UPDATE transactions SET insert_time = \"2021-07-07\", tx_type = \"sell\", status = \"close\" where id = 3')\n",
    "cursorObj.execute('UPDATE transactions SET insert_time = \"2021-07-10\", tx_type = \"sell\", status = \"close\" where id = 4')\n",
    "con.commit()"
   ]
  },
  {
   "cell_type": "code",
   "execution_count": 19,
   "metadata": {},
   "outputs": [],
   "source": [
    "# New Updated Transactions List \n",
    "\n",
    "cursorObj.execute('SELECT * FROM transactions')\n",
    "rows = cursorObj.fetchall()\n",
    "for row in rows:\n",
    "    print(row)"
   ]
  },
  {
   "cell_type": "markdown",
   "metadata": {},
   "source": [
    "### Dataset B"
   ]
  },
  {
   "cell_type": "code",
   "execution_count": 27,
   "metadata": {},
   "outputs": [],
   "source": [
    "import sqlite3\n",
    "from sqlite3 import Error\n",
    "def sql_connection():\n",
    "    try:\n",
    "        con = sqlite3.connect('databaseDewi.db')\n",
    "        return con\n",
    "    except Error:\n",
    "        print(Error)\n",
    "def sql_table(con):\n",
    "    cursorObj = con.cursor()\n",
    "    cursorObj.execute(\"CREATE TABLE datasales(date text, sales integer)\")\n",
    "    con.commit()\n",
    "con = sql_connection()\n",
    "sql_table(con)"
   ]
  },
  {
   "cell_type": "code",
   "execution_count": 29,
   "metadata": {},
   "outputs": [],
   "source": [
    "# Insert The Buy Data into Table\n",
    "\n",
    "import sqlite3\n",
    "con = sqlite3.connect('databaseDewi.db')\n",
    "cursorObj = con.cursor()\n",
    "\n",
    "cursorObj.execute(\"INSERT INTO datasales (date, sales) VALUES('2021-1-1', 100)\")\n",
    "cursorObj.execute(\"INSERT INTO datasales (date, sales) VALUES('2021-1-2', 34)\")\n",
    "cursorObj.execute(\"INSERT INTO datasales (date, sales) VALUES('2021-1-2', 123)\")\n",
    "cursorObj.execute(\"INSERT INTO datasales (date, sales) VALUES('2021-1-3', 145)\")\n",
    "cursorObj.execute(\"INSERT INTO datasales (date, sales) VALUES('2021-1-3', 24)\")\n",
    "cursorObj.execute(\"INSERT INTO datasales (date, sales) VALUES('2021-1-4', 541)\")\n",
    "cursorObj.execute(\"INSERT INTO datasales (date, sales) VALUES('2021-1-4', 636)\")\n",
    "cursorObj.execute(\"INSERT INTO datasales (date, sales) VALUES('2021-1-5', 322)\")\n",
    "cursorObj.execute(\"INSERT INTO datasales (date, sales) VALUES('2021-1-6', 242)\")\n",
    "cursorObj.execute(\"INSERT INTO datasales (date, sales) VALUES('2021-1-7', 22)\")\n",
    "cursorObj.execute(\"INSERT INTO datasales (date, sales) VALUES('2021-1-8', 46)\")\n",
    "\n",
    "con.commit()"
   ]
  },
  {
   "cell_type": "code",
   "execution_count": 30,
   "metadata": {},
   "outputs": [
    {
     "name": "stdout",
     "output_type": "stream",
     "text": [
      "('2021-1-1', 100)\n",
      "('2021-1-2', 34)\n",
      "('2021-1-2', 123)\n",
      "('2021-1-3', 145)\n",
      "('2021-1-3', 24)\n",
      "('2021-1-4', 541)\n",
      "('2021-1-4', 636)\n",
      "('2021-1-5', 322)\n",
      "('2021-1-6', 242)\n",
      "('2021-1-7', 22)\n",
      "('2021-1-8', 46)\n"
     ]
    }
   ],
   "source": [
    "# Data Sales\n",
    "\n",
    "cursorObj.execute('SELECT * FROM datasales')\n",
    "rows = cursorObj.fetchall()\n",
    "for row in rows:\n",
    "    print(row)"
   ]
  },
  {
   "cell_type": "code",
   "execution_count": 32,
   "metadata": {},
   "outputs": [
    {
     "name": "stdout",
     "output_type": "stream",
     "text": [
      "('2021-1-1', 100)\n",
      "('2021-1-2', 157)\n",
      "('2021-1-3', 169)\n",
      "('2021-1-4', 1177)\n",
      "('2021-1-5', 322)\n",
      "('2021-1-6', 242)\n",
      "('2021-1-7', 22)\n",
      "('2021-1-8', 46)\n"
     ]
    }
   ],
   "source": [
    "# Report Daily Sales\n",
    "\n",
    "cursorObj.execute('SELECT date, sum(sales) FROM datasales GROUP BY date')\n",
    "rows = cursorObj.fetchall()\n",
    "for row in rows:\n",
    "    print(row)"
   ]
  },
  {
   "cell_type": "markdown",
   "metadata": {},
   "source": [
    "### Dataset C"
   ]
  },
  {
   "cell_type": "code",
   "execution_count": 140,
   "metadata": {},
   "outputs": [],
   "source": [
    "#impost json file\n",
    "\n",
    "import pandas as pd\n",
    "import json\n",
    "with open('practicecase.txt') as f_in: #data practicecase.txt as same as the dataset C\n",
    "    data = json.load(f_in)"
   ]
  },
  {
   "cell_type": "code",
   "execution_count": 170,
   "metadata": {},
   "outputs": [
    {
     "data": {
      "text/html": [
       "<div>\n",
       "<style scoped>\n",
       "    .dataframe tbody tr th:only-of-type {\n",
       "        vertical-align: middle;\n",
       "    }\n",
       "\n",
       "    .dataframe tbody tr th {\n",
       "        vertical-align: top;\n",
       "    }\n",
       "\n",
       "    .dataframe thead th {\n",
       "        text-align: right;\n",
       "    }\n",
       "</style>\n",
       "<table border=\"1\" class=\"dataframe\">\n",
       "  <thead>\n",
       "    <tr style=\"text-align: right;\">\n",
       "      <th></th>\n",
       "      <th>txs</th>\n",
       "      <th>user.id</th>\n",
       "      <th>user.name</th>\n",
       "      <th>user.email</th>\n",
       "    </tr>\n",
       "  </thead>\n",
       "  <tbody>\n",
       "    <tr>\n",
       "      <th>0</th>\n",
       "      <td>[{'id': 1, 'tx_date': '2020-01-01', 'tx_amount...</td>\n",
       "      <td>1</td>\n",
       "      <td>agus</td>\n",
       "      <td>agus@example.com</td>\n",
       "    </tr>\n",
       "    <tr>\n",
       "      <th>1</th>\n",
       "      <td>[{'id': 2, 'tx_date': '2020-01-01', 'tx_amount...</td>\n",
       "      <td>2</td>\n",
       "      <td>asep</td>\n",
       "      <td>asep@example.com</td>\n",
       "    </tr>\n",
       "  </tbody>\n",
       "</table>\n",
       "</div>"
      ],
      "text/plain": [
       "                                                 txs  user.id user.name  \\\n",
       "0  [{'id': 1, 'tx_date': '2020-01-01', 'tx_amount...        1      agus   \n",
       "1  [{'id': 2, 'tx_date': '2020-01-01', 'tx_amount...        2      asep   \n",
       "\n",
       "         user.email  \n",
       "0  agus@example.com  \n",
       "1  asep@example.com  "
      ]
     },
     "execution_count": 170,
     "metadata": {},
     "output_type": "execute_result"
    }
   ],
   "source": [
    "df_json = pd.json_normalize(data)\n",
    "df_json"
   ]
  },
  {
   "cell_type": "code",
   "execution_count": 185,
   "metadata": {},
   "outputs": [
    {
     "data": {
      "text/html": [
       "<div>\n",
       "<style scoped>\n",
       "    .dataframe tbody tr th:only-of-type {\n",
       "        vertical-align: middle;\n",
       "    }\n",
       "\n",
       "    .dataframe tbody tr th {\n",
       "        vertical-align: top;\n",
       "    }\n",
       "\n",
       "    .dataframe thead th {\n",
       "        text-align: right;\n",
       "    }\n",
       "</style>\n",
       "<table border=\"1\" class=\"dataframe\">\n",
       "  <thead>\n",
       "    <tr style=\"text-align: right;\">\n",
       "      <th></th>\n",
       "      <th>id</th>\n",
       "      <th>tx_date</th>\n",
       "      <th>tx_amount</th>\n",
       "      <th>tx_type</th>\n",
       "    </tr>\n",
       "  </thead>\n",
       "  <tbody>\n",
       "    <tr>\n",
       "      <th>0</th>\n",
       "      <td>1</td>\n",
       "      <td>2020-01-01</td>\n",
       "      <td>10</td>\n",
       "      <td>buy</td>\n",
       "    </tr>\n",
       "    <tr>\n",
       "      <th>1</th>\n",
       "      <td>3</td>\n",
       "      <td>2020-02-01</td>\n",
       "      <td>10</td>\n",
       "      <td>buy</td>\n",
       "    </tr>\n",
       "    <tr>\n",
       "      <th>2</th>\n",
       "      <td>5</td>\n",
       "      <td>2020-03-01</td>\n",
       "      <td>20</td>\n",
       "      <td>sell</td>\n",
       "    </tr>\n",
       "    <tr>\n",
       "      <th>3</th>\n",
       "      <td>2</td>\n",
       "      <td>2020-01-01</td>\n",
       "      <td>10</td>\n",
       "      <td>sell</td>\n",
       "    </tr>\n",
       "    <tr>\n",
       "      <th>4</th>\n",
       "      <td>4</td>\n",
       "      <td>2020-02-01</td>\n",
       "      <td>10</td>\n",
       "      <td>sell</td>\n",
       "    </tr>\n",
       "    <tr>\n",
       "      <th>5</th>\n",
       "      <td>6</td>\n",
       "      <td>2020-03-01</td>\n",
       "      <td>20</td>\n",
       "      <td>buy</td>\n",
       "    </tr>\n",
       "  </tbody>\n",
       "</table>\n",
       "</div>"
      ],
      "text/plain": [
       "   id     tx_date  tx_amount tx_type\n",
       "0   1  2020-01-01         10     buy\n",
       "1   3  2020-02-01         10     buy\n",
       "2   5  2020-03-01         20    sell\n",
       "3   2  2020-01-01         10    sell\n",
       "4   4  2020-02-01         10    sell\n",
       "5   6  2020-03-01         20     buy"
      ]
     },
     "execution_count": 185,
     "metadata": {},
     "output_type": "execute_result"
    }
   ],
   "source": [
    "df_txs = pd.json_normalize(data, 'txs', max_level=1)\n",
    "df_txs"
   ]
  },
  {
   "cell_type": "code",
   "execution_count": 189,
   "metadata": {},
   "outputs": [],
   "source": [
    "df_id = [df_json[['user.id']], df_txs[['id']]]"
   ]
  },
  {
   "cell_type": "code",
   "execution_count": 173,
   "metadata": {},
   "outputs": [],
   "source": [
    "# CSV 1\n",
    "\n",
    "df_id = [df_json[['user_id']], df_txs[['id']]]\n",
    "df_id.columns = ['user_id', 'tx_id']\n",
    "df_id.to_csv('CSV_1.csv', index=False)\n",
    "\n",
    "\n",
    "# CSV 2\n",
    "df_user = df_json[['user.id', 'user.name', 'user.email']]\n",
    "df_user.columns = ['Id', 'name', 'email']\n",
    "df_user.to_csv('CSV_2.csv', index=False)\n",
    "\n",
    "# CSV 3\n",
    "df_txs.to_csv('CSV_3.csv', index=False) "
   ]
  }
 ],
 "metadata": {
  "kernelspec": {
   "display_name": "Python 3",
   "language": "python",
   "name": "python3"
  },
  "language_info": {
   "codemirror_mode": {
    "name": "ipython",
    "version": 3
   },
   "file_extension": ".py",
   "mimetype": "text/x-python",
   "name": "python",
   "nbconvert_exporter": "python",
   "pygments_lexer": "ipython3",
   "version": "3.7.6"
  }
 },
 "nbformat": 4,
 "nbformat_minor": 4
}
