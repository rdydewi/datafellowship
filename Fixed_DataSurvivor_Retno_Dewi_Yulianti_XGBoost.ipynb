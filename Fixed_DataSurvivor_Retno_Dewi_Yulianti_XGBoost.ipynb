{
  "nbformat": 4,
  "nbformat_minor": 0,
  "metadata": {
    "colab": {
      "name": "Fixed_DataSurvivor_Retno Dewi Yulianti_XGBoost.ipynb",
      "provenance": [],
      "authorship_tag": "ABX9TyPs6ADn7w8uAWgVYn2f9Pnk"
    },
    "kernelspec": {
      "name": "python3",
      "display_name": "Python 3"
    },
    "language_info": {
      "name": "python"
    }
  },
  "cells": [
    {
      "cell_type": "markdown",
      "metadata": {
        "id": "cZaXdOrBTgdc"
      },
      "source": [
        "#**FELLOW 6**\n",
        "Ensemble Competition"
      ]
    },
    {
      "cell_type": "markdown",
      "metadata": {
        "id": "VZZlO3bHTmNb"
      },
      "source": [
        "###**Import Dataset**"
      ]
    },
    {
      "cell_type": "code",
      "metadata": {
        "colab": {
          "base_uri": "https://localhost:8080/"
        },
        "id": "I68akZLYGDMt",
        "outputId": "062c120d-f4a1-42f6-94c0-9975aed70855"
      },
      "source": [
        "from google.colab import drive\n",
        "drive.mount('/content/gdrive')"
      ],
      "execution_count": null,
      "outputs": [
        {
          "output_type": "stream",
          "text": [
            "Mounted at /content/gdrive\n"
          ],
          "name": "stdout"
        }
      ]
    },
    {
      "cell_type": "code",
      "metadata": {
        "id": "kWAPTrNOGMui"
      },
      "source": [
        "import numpy as np\n",
        "import pandas as pd"
      ],
      "execution_count": null,
      "outputs": []
    },
    {
      "cell_type": "code",
      "metadata": {
        "id": "gIsZS58lGOwK"
      },
      "source": [
        "df_train = pd.read_csv('/content/gdrive/MyDrive/Fellow6/Train.csv')\n",
        "df_test = pd.read_csv('/content/gdrive/MyDrive/Fellow6/Test.csv')"
      ],
      "execution_count": null,
      "outputs": []
    },
    {
      "cell_type": "code",
      "metadata": {
        "colab": {
          "base_uri": "https://localhost:8080/",
          "height": 202
        },
        "id": "1ZZQ5wKKGdDY",
        "outputId": "9a210db4-741c-4d7a-a5e8-62592507060d"
      },
      "source": [
        "df_train.head()"
      ],
      "execution_count": null,
      "outputs": [
        {
          "output_type": "execute_result",
          "data": {
            "text/html": [
              "<div>\n",
              "<style scoped>\n",
              "    .dataframe tbody tr th:only-of-type {\n",
              "        vertical-align: middle;\n",
              "    }\n",
              "\n",
              "    .dataframe tbody tr th {\n",
              "        vertical-align: top;\n",
              "    }\n",
              "\n",
              "    .dataframe thead th {\n",
              "        text-align: right;\n",
              "    }\n",
              "</style>\n",
              "<table border=\"1\" class=\"dataframe\">\n",
              "  <thead>\n",
              "    <tr style=\"text-align: right;\">\n",
              "      <th></th>\n",
              "      <th>date</th>\n",
              "      <th>day</th>\n",
              "      <th>targeted_productivity</th>\n",
              "      <th>smv</th>\n",
              "      <th>wip</th>\n",
              "      <th>over_time</th>\n",
              "      <th>incentive</th>\n",
              "      <th>idle_time</th>\n",
              "      <th>idle_men</th>\n",
              "      <th>no_of_style_change</th>\n",
              "      <th>no_of_workers</th>\n",
              "      <th>actual_productivity</th>\n",
              "    </tr>\n",
              "  </thead>\n",
              "  <tbody>\n",
              "    <tr>\n",
              "      <th>0</th>\n",
              "      <td>1/1/2015</td>\n",
              "      <td>Thursday</td>\n",
              "      <td>0.65</td>\n",
              "      <td>23.69</td>\n",
              "      <td>861.0</td>\n",
              "      <td>7200</td>\n",
              "      <td>0</td>\n",
              "      <td>0.0</td>\n",
              "      <td>0</td>\n",
              "      <td>0</td>\n",
              "      <td>60.0</td>\n",
              "      <td>0.521180</td>\n",
              "    </tr>\n",
              "    <tr>\n",
              "      <th>1</th>\n",
              "      <td>1/3/2015</td>\n",
              "      <td>Saturday</td>\n",
              "      <td>0.70</td>\n",
              "      <td>23.69</td>\n",
              "      <td>544.0</td>\n",
              "      <td>13800</td>\n",
              "      <td>0</td>\n",
              "      <td>0.0</td>\n",
              "      <td>0</td>\n",
              "      <td>0</td>\n",
              "      <td>60.0</td>\n",
              "      <td>0.700134</td>\n",
              "    </tr>\n",
              "    <tr>\n",
              "      <th>2</th>\n",
              "      <td>1/4/2015</td>\n",
              "      <td>Sunday</td>\n",
              "      <td>0.80</td>\n",
              "      <td>28.08</td>\n",
              "      <td>878.0</td>\n",
              "      <td>4260</td>\n",
              "      <td>50</td>\n",
              "      <td>0.0</td>\n",
              "      <td>0</td>\n",
              "      <td>0</td>\n",
              "      <td>55.5</td>\n",
              "      <td>0.800598</td>\n",
              "    </tr>\n",
              "    <tr>\n",
              "      <th>3</th>\n",
              "      <td>1/5/2015</td>\n",
              "      <td>Monday</td>\n",
              "      <td>0.80</td>\n",
              "      <td>28.08</td>\n",
              "      <td>759.0</td>\n",
              "      <td>6900</td>\n",
              "      <td>50</td>\n",
              "      <td>0.0</td>\n",
              "      <td>0</td>\n",
              "      <td>0</td>\n",
              "      <td>57.5</td>\n",
              "      <td>0.800077</td>\n",
              "    </tr>\n",
              "    <tr>\n",
              "      <th>4</th>\n",
              "      <td>1/6/2015</td>\n",
              "      <td>Tuesday</td>\n",
              "      <td>0.80</td>\n",
              "      <td>28.08</td>\n",
              "      <td>925.0</td>\n",
              "      <td>10350</td>\n",
              "      <td>50</td>\n",
              "      <td>0.0</td>\n",
              "      <td>0</td>\n",
              "      <td>0</td>\n",
              "      <td>57.5</td>\n",
              "      <td>0.800594</td>\n",
              "    </tr>\n",
              "  </tbody>\n",
              "</table>\n",
              "</div>"
            ],
            "text/plain": [
              "       date       day  ...  no_of_workers  actual_productivity\n",
              "0  1/1/2015  Thursday  ...           60.0             0.521180\n",
              "1  1/3/2015  Saturday  ...           60.0             0.700134\n",
              "2  1/4/2015    Sunday  ...           55.5             0.800598\n",
              "3  1/5/2015    Monday  ...           57.5             0.800077\n",
              "4  1/6/2015   Tuesday  ...           57.5             0.800594\n",
              "\n",
              "[5 rows x 12 columns]"
            ]
          },
          "metadata": {},
          "execution_count": 4
        }
      ]
    },
    {
      "cell_type": "code",
      "metadata": {
        "colab": {
          "base_uri": "https://localhost:8080/"
        },
        "id": "86TU8KXLdkKx",
        "outputId": "16b39d6d-2a86-444a-a89a-35bb09c4d0b3"
      },
      "source": [
        "df_train.shape"
      ],
      "execution_count": null,
      "outputs": [
        {
          "output_type": "execute_result",
          "data": {
            "text/plain": [
              "(48, 12)"
            ]
          },
          "metadata": {},
          "execution_count": 5
        }
      ]
    },
    {
      "cell_type": "code",
      "metadata": {
        "colab": {
          "base_uri": "https://localhost:8080/"
        },
        "id": "5sKvEYPmdk3y",
        "outputId": "c933551c-57ac-4e7e-e63d-2d8033a2f67c"
      },
      "source": [
        "df_train.dtypes"
      ],
      "execution_count": null,
      "outputs": [
        {
          "output_type": "execute_result",
          "data": {
            "text/plain": [
              "date                      object\n",
              "day                       object\n",
              "targeted_productivity    float64\n",
              "smv                      float64\n",
              "wip                      float64\n",
              "over_time                  int64\n",
              "incentive                  int64\n",
              "idle_time                float64\n",
              "idle_men                   int64\n",
              "no_of_style_change         int64\n",
              "no_of_workers            float64\n",
              "actual_productivity      float64\n",
              "dtype: object"
            ]
          },
          "metadata": {},
          "execution_count": 6
        }
      ]
    },
    {
      "cell_type": "markdown",
      "metadata": {
        "id": "CS2BoxBqUKRf"
      },
      "source": [
        "### **One Hot Encoding for Variable Day**"
      ]
    },
    {
      "cell_type": "code",
      "metadata": {
        "id": "jDC0NAeJeNxl"
      },
      "source": [
        "from sklearn import metrics\n",
        "from sklearn import preprocessing\n",
        "from sklearn.preprocessing import OneHotEncoder\n",
        "\n",
        "encoding = OneHotEncoder()\n",
        "encoding.fit(df_train[['day']])\n",
        "encoding_df=encoding.transform(df_train[['day']]).toarray()"
      ],
      "execution_count": null,
      "outputs": []
    },
    {
      "cell_type": "code",
      "metadata": {
        "id": "5zbZK8njECIV"
      },
      "source": [
        "X = np.concatenate([encoding_df,np.array(df_train[['targeted_productivity',\t'smv',\t'wip',\t'over_time',\t'incentive',\t'idle_time',\t'idle_men'\t,'no_of_style_change',\t'no_of_workers']])],axis = 1)\n",
        "y = df_train['actual_productivity']"
      ],
      "execution_count": null,
      "outputs": []
    },
    {
      "cell_type": "markdown",
      "metadata": {
        "id": "p1jUAZB3h5dZ"
      },
      "source": [
        "###**DATA SPLITTING**"
      ]
    },
    {
      "cell_type": "code",
      "metadata": {
        "id": "rhrfoEQSdTox"
      },
      "source": [
        "from sklearn.model_selection import train_test_split\n",
        "X_train, X_test1, y_train, y_test1 = train_test_split(X, y, test_size=0.2, random_state=42)"
      ],
      "execution_count": null,
      "outputs": []
    },
    {
      "cell_type": "markdown",
      "metadata": {
        "id": "scEVtlCaHhzJ"
      },
      "source": [
        "###**MODELLING**"
      ]
    },
    {
      "cell_type": "code",
      "metadata": {
        "colab": {
          "base_uri": "https://localhost:8080/"
        },
        "id": "pwEQJJhFc5wL",
        "outputId": "08a9ec51-32aa-411f-84b5-b6bd72da4808"
      },
      "source": [
        "from xgboost import XGBRegressor\n",
        "\n",
        "my_model = XGBRegressor(learning_rate = 0.04, n_estimators = 2500, silent =  1, max_depth = 7, booster = 'dart', objective = 'reg:tweedie', random_state=42)\n",
        "my_model.fit(X_train, y_train,verbose=False)"
      ],
      "execution_count": null,
      "outputs": [
        {
          "output_type": "execute_result",
          "data": {
            "text/plain": [
              "XGBRegressor(base_score=0.5, booster='dart', colsample_bylevel=1,\n",
              "             colsample_bynode=1, colsample_bytree=1, gamma=0,\n",
              "             importance_type='gain', learning_rate=0.04, max_delta_step=0,\n",
              "             max_depth=7, min_child_weight=1, missing=None, n_estimators=2500,\n",
              "             n_jobs=1, nthread=None, objective='reg:tweedie', random_state=42,\n",
              "             reg_alpha=0, reg_lambda=1, scale_pos_weight=1, seed=None, silent=1,\n",
              "             subsample=1, verbosity=1)"
            ]
          },
          "metadata": {},
          "execution_count": 10
        }
      ]
    },
    {
      "cell_type": "markdown",
      "metadata": {
        "id": "A5RDmoeni88W"
      },
      "source": [
        "### **Calculate MAPE (Mean Absolut Percentage Error)**\n"
      ]
    },
    {
      "cell_type": "code",
      "metadata": {
        "colab": {
          "base_uri": "https://localhost:8080/"
        },
        "id": "tlzT1hAWiZId",
        "outputId": "9b1fd28f-ac86-424b-8f84-f363c97e9ab3"
      },
      "source": [
        "predictions = my_model.predict(X_test1)\n",
        "\n",
        "def mape(actual, pred): \n",
        "    actual, pred = np.array(actual), np.array(pred)\n",
        "    return np.mean(np.abs((actual - pred) / actual)) * 100\n",
        "\n",
        "mape(y_test1, predictions)"
      ],
      "execution_count": null,
      "outputs": [
        {
          "output_type": "execute_result",
          "data": {
            "text/plain": [
              "3.9304467570388586"
            ]
          },
          "metadata": {},
          "execution_count": 11
        }
      ]
    },
    {
      "cell_type": "code",
      "metadata": {
        "colab": {
          "base_uri": "https://localhost:8080/"
        },
        "id": "1V9Hbebvbeph",
        "outputId": "a6bbad2f-cc45-4255-f3e0-9db36d3fbce8"
      },
      "source": [
        "from sklearn import metrics\n",
        "\n",
        "r2 = metrics.r2_score(y_test1, predictions)\n",
        "print('R2: {}\\n'.format(r2))\n",
        "\n",
        "mse = metrics.mean_squared_error(y_test1, predictions)\n",
        "print('MSE: {}\\n'.format(mse))\n",
        "\n",
        "print('RMSE: {}\\n'.format(np.sqrt(mse)))\n",
        "\n",
        "mae = metrics.mean_absolute_error(y_test1, predictions)\n",
        "print('MAE: {}\\n'.format(mae))"
      ],
      "execution_count": null,
      "outputs": [
        {
          "output_type": "stream",
          "text": [
            "R2: 0.6421187567390807\n",
            "\n",
            "MSE: 0.0021171037884445713\n",
            "\n",
            "RMSE: 0.046011996136274845\n",
            "\n",
            "MAE: 0.028466053063574238\n",
            "\n"
          ],
          "name": "stdout"
        }
      ]
    },
    {
      "cell_type": "code",
      "metadata": {
        "colab": {
          "base_uri": "https://localhost:8080/"
        },
        "id": "vzsrAAGbG1os",
        "outputId": "5f7e3f6d-2f2f-4c3b-81eb-953fafe54bab"
      },
      "source": [
        "# Fixed\n",
        "\n",
        "from xgboost import XGBRegressor\n",
        "\n",
        "my_model = XGBRegressor(learning_rate = 0.04, n_estimators = 1500000, silent =  1, max_depth = 7)\n",
        "my_model.fit(X_train, y_train,verbose=False)"
      ],
      "execution_count": null,
      "outputs": [
        {
          "output_type": "execute_result",
          "data": {
            "text/plain": [
              "XGBRegressor(base_score=0.5, booster='gbtree', colsample_bylevel=1,\n",
              "             colsample_bynode=1, colsample_bytree=1, gamma=0,\n",
              "             importance_type='gain', learning_rate=0.04, max_delta_step=0,\n",
              "             max_depth=7, min_child_weight=1, missing=None,\n",
              "             n_estimators=1500000, n_jobs=1, nthread=None,\n",
              "             objective='reg:linear', random_state=0, reg_alpha=0, reg_lambda=1,\n",
              "             scale_pos_weight=1, seed=None, silent=1, subsample=1, verbosity=1)"
            ]
          },
          "metadata": {},
          "execution_count": 13
        }
      ]
    },
    {
      "cell_type": "code",
      "metadata": {
        "colab": {
          "base_uri": "https://localhost:8080/"
        },
        "id": "mtjEwHUqHIxM",
        "outputId": "081fd229-8ccf-485d-eeaa-7d64fc1b0196"
      },
      "source": [
        "predictions = my_model.predict(X_test1)\n",
        "\n",
        "def mape(actual, pred): \n",
        "    actual, pred = np.array(actual), np.array(pred)\n",
        "    return np.mean(np.abs((actual - pred) / actual)) * 100\n",
        "\n",
        "mape(y_test1, predictions)"
      ],
      "execution_count": null,
      "outputs": [
        {
          "output_type": "execute_result",
          "data": {
            "text/plain": [
              "3.3072358294570092"
            ]
          },
          "metadata": {},
          "execution_count": 14
        }
      ]
    },
    {
      "cell_type": "code",
      "metadata": {
        "colab": {
          "base_uri": "https://localhost:8080/"
        },
        "id": "2mE2nGNrHrKj",
        "outputId": "82e59288-13c2-4b2f-c61f-95406fde896c"
      },
      "source": [
        "from sklearn import metrics\n",
        "\n",
        "r2 = metrics.r2_score(y_test1, predictions)\n",
        "print('R2: {}\\n'.format(r2))\n",
        "\n",
        "mse = metrics.mean_squared_error(y_test1, predictions)\n",
        "print('MSE: {}\\n'.format(mse))\n",
        "\n",
        "print('RMSE: {}\\n'.format(np.sqrt(mse)))\n",
        "\n",
        "mae = metrics.mean_absolute_error(y_test1, predictions)\n",
        "print('MAE: {}\\n'.format(mae))"
      ],
      "execution_count": null,
      "outputs": [
        {
          "output_type": "stream",
          "text": [
            "R2: 0.7327454410381888\n",
            "\n",
            "MSE: 0.0015809871288633686\n",
            "\n",
            "RMSE: 0.03976162885073207\n",
            "\n",
            "MAE: 0.023834411126699838\n",
            "\n"
          ],
          "name": "stdout"
        }
      ]
    },
    {
      "cell_type": "markdown",
      "metadata": {
        "id": "A4jcSIC2Hwq9"
      },
      "source": [
        "### **DATA PREDICTION**"
      ]
    },
    {
      "cell_type": "code",
      "metadata": {
        "id": "6NjhAnmRHyJU"
      },
      "source": [
        "encoding_test = encoding.transform(df_test[['day']]).toarray()\n",
        "X_test = np.concatenate([encoding_test,np.array(df_test[['targeted_productivity',\t'smv',\t'wip',\t'over_time',\t'incentive',\t'idle_time',\t'idle_men'\t,'no_of_style_change',\t'no_of_workers']])],axis = 1)"
      ],
      "execution_count": null,
      "outputs": []
    },
    {
      "cell_type": "code",
      "metadata": {
        "id": "G9Mv-0sBH05k",
        "colab": {
          "base_uri": "https://localhost:8080/"
        },
        "outputId": "4663a277-866f-4392-9200-148bbe8296fc"
      },
      "source": [
        "xgb_predict = my_model.predict(X_test)\n",
        "print(xgb_predict)"
      ],
      "execution_count": null,
      "outputs": [
        {
          "output_type": "stream",
          "text": [
            "[0.51897824 0.5235987  0.6158876  0.6611476  0.75       0.75\n",
            " 0.74264216 0.75       0.8285024  0.8625996  0.8430569 ]\n"
          ],
          "name": "stdout"
        }
      ]
    },
    {
      "cell_type": "code",
      "metadata": {
        "colab": {
          "base_uri": "https://localhost:8080/",
          "height": 385
        },
        "id": "6j_rSXCPV0w1",
        "outputId": "b3a3b3f6-cc15-403a-de70-de38da985c6a"
      },
      "source": [
        "df_xgb_predict = pd.DataFrame(xgb_predict)\n",
        "df_xgb_predict"
      ],
      "execution_count": null,
      "outputs": [
        {
          "output_type": "execute_result",
          "data": {
            "text/html": [
              "<div>\n",
              "<style scoped>\n",
              "    .dataframe tbody tr th:only-of-type {\n",
              "        vertical-align: middle;\n",
              "    }\n",
              "\n",
              "    .dataframe tbody tr th {\n",
              "        vertical-align: top;\n",
              "    }\n",
              "\n",
              "    .dataframe thead th {\n",
              "        text-align: right;\n",
              "    }\n",
              "</style>\n",
              "<table border=\"1\" class=\"dataframe\">\n",
              "  <thead>\n",
              "    <tr style=\"text-align: right;\">\n",
              "      <th></th>\n",
              "      <th>0</th>\n",
              "    </tr>\n",
              "  </thead>\n",
              "  <tbody>\n",
              "    <tr>\n",
              "      <th>0</th>\n",
              "      <td>0.518978</td>\n",
              "    </tr>\n",
              "    <tr>\n",
              "      <th>1</th>\n",
              "      <td>0.523599</td>\n",
              "    </tr>\n",
              "    <tr>\n",
              "      <th>2</th>\n",
              "      <td>0.615888</td>\n",
              "    </tr>\n",
              "    <tr>\n",
              "      <th>3</th>\n",
              "      <td>0.661148</td>\n",
              "    </tr>\n",
              "    <tr>\n",
              "      <th>4</th>\n",
              "      <td>0.750000</td>\n",
              "    </tr>\n",
              "    <tr>\n",
              "      <th>5</th>\n",
              "      <td>0.750000</td>\n",
              "    </tr>\n",
              "    <tr>\n",
              "      <th>6</th>\n",
              "      <td>0.742642</td>\n",
              "    </tr>\n",
              "    <tr>\n",
              "      <th>7</th>\n",
              "      <td>0.750000</td>\n",
              "    </tr>\n",
              "    <tr>\n",
              "      <th>8</th>\n",
              "      <td>0.828502</td>\n",
              "    </tr>\n",
              "    <tr>\n",
              "      <th>9</th>\n",
              "      <td>0.862600</td>\n",
              "    </tr>\n",
              "    <tr>\n",
              "      <th>10</th>\n",
              "      <td>0.843057</td>\n",
              "    </tr>\n",
              "  </tbody>\n",
              "</table>\n",
              "</div>"
            ],
            "text/plain": [
              "           0\n",
              "0   0.518978\n",
              "1   0.523599\n",
              "2   0.615888\n",
              "3   0.661148\n",
              "4   0.750000\n",
              "5   0.750000\n",
              "6   0.742642\n",
              "7   0.750000\n",
              "8   0.828502\n",
              "9   0.862600\n",
              "10  0.843057"
            ]
          },
          "metadata": {},
          "execution_count": 18
        }
      ]
    },
    {
      "cell_type": "code",
      "metadata": {
        "colab": {
          "base_uri": "https://localhost:8080/",
          "height": 385
        },
        "id": "EIydrfAMWJRv",
        "outputId": "89777609-62b3-461c-db25-e783e76f1fd7"
      },
      "source": [
        "df_xgb_predict.index+=1\n",
        "df_xgb_predict=df_xgb_predict.rename(columns = {0: 'actual_productivity'}, inplace = False)\n",
        "df_xgb_predict"
      ],
      "execution_count": null,
      "outputs": [
        {
          "output_type": "execute_result",
          "data": {
            "text/html": [
              "<div>\n",
              "<style scoped>\n",
              "    .dataframe tbody tr th:only-of-type {\n",
              "        vertical-align: middle;\n",
              "    }\n",
              "\n",
              "    .dataframe tbody tr th {\n",
              "        vertical-align: top;\n",
              "    }\n",
              "\n",
              "    .dataframe thead th {\n",
              "        text-align: right;\n",
              "    }\n",
              "</style>\n",
              "<table border=\"1\" class=\"dataframe\">\n",
              "  <thead>\n",
              "    <tr style=\"text-align: right;\">\n",
              "      <th></th>\n",
              "      <th>actual_productivity</th>\n",
              "    </tr>\n",
              "  </thead>\n",
              "  <tbody>\n",
              "    <tr>\n",
              "      <th>1</th>\n",
              "      <td>0.518978</td>\n",
              "    </tr>\n",
              "    <tr>\n",
              "      <th>2</th>\n",
              "      <td>0.523599</td>\n",
              "    </tr>\n",
              "    <tr>\n",
              "      <th>3</th>\n",
              "      <td>0.615888</td>\n",
              "    </tr>\n",
              "    <tr>\n",
              "      <th>4</th>\n",
              "      <td>0.661148</td>\n",
              "    </tr>\n",
              "    <tr>\n",
              "      <th>5</th>\n",
              "      <td>0.750000</td>\n",
              "    </tr>\n",
              "    <tr>\n",
              "      <th>6</th>\n",
              "      <td>0.750000</td>\n",
              "    </tr>\n",
              "    <tr>\n",
              "      <th>7</th>\n",
              "      <td>0.742642</td>\n",
              "    </tr>\n",
              "    <tr>\n",
              "      <th>8</th>\n",
              "      <td>0.750000</td>\n",
              "    </tr>\n",
              "    <tr>\n",
              "      <th>9</th>\n",
              "      <td>0.828502</td>\n",
              "    </tr>\n",
              "    <tr>\n",
              "      <th>10</th>\n",
              "      <td>0.862600</td>\n",
              "    </tr>\n",
              "    <tr>\n",
              "      <th>11</th>\n",
              "      <td>0.843057</td>\n",
              "    </tr>\n",
              "  </tbody>\n",
              "</table>\n",
              "</div>"
            ],
            "text/plain": [
              "    actual_productivity\n",
              "1              0.518978\n",
              "2              0.523599\n",
              "3              0.615888\n",
              "4              0.661148\n",
              "5              0.750000\n",
              "6              0.750000\n",
              "7              0.742642\n",
              "8              0.750000\n",
              "9              0.828502\n",
              "10             0.862600\n",
              "11             0.843057"
            ]
          },
          "metadata": {},
          "execution_count": 19
        }
      ]
    },
    {
      "cell_type": "code",
      "metadata": {
        "colab": {
          "base_uri": "https://localhost:8080/"
        },
        "id": "c0EuoPCzZq5X",
        "outputId": "1afdae65-518a-4c80-8e2c-95fcea0d361c"
      },
      "source": [
        "#Rename index into \"id\"\n",
        "\n",
        "df_xgb_predict = df_xgb_predict.rename_axis('id').reset_index()\n",
        "print(df_xgb_predict)"
      ],
      "execution_count": null,
      "outputs": [
        {
          "output_type": "stream",
          "text": [
            "    id  actual_productivity\n",
            "0    1             0.518978\n",
            "1    2             0.523599\n",
            "2    3             0.615888\n",
            "3    4             0.661148\n",
            "4    5             0.750000\n",
            "5    6             0.750000\n",
            "6    7             0.742642\n",
            "7    8             0.750000\n",
            "8    9             0.828502\n",
            "9   10             0.862600\n",
            "10  11             0.843057\n"
          ],
          "name": "stdout"
        }
      ]
    },
    {
      "cell_type": "markdown",
      "metadata": {
        "id": "_kT2NoIdWLH5"
      },
      "source": [
        "### **EXPORT TO CSV**"
      ]
    },
    {
      "cell_type": "code",
      "metadata": {
        "id": "ob-3ErTmWPSc"
      },
      "source": [
        "df_xgb_predict.to_csv('XGB_Prediction2.csv', index=False)"
      ],
      "execution_count": null,
      "outputs": []
    }
  ]
}